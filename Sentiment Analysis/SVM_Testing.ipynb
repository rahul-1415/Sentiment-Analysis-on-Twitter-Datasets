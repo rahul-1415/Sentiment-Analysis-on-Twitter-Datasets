{
 "cells": [
  {
   "cell_type": "code",
   "execution_count": 1,
   "id": "85c463dc",
   "metadata": {},
   "outputs": [],
   "source": [
    "from joblib import dump, load\n",
    "\n",
    "svm_classifier = load('SVM_model.joblib')\n",
    "vectorizer = load('Count_vectorizer.joblib')"
   ]
  },
  {
   "cell_type": "code",
   "execution_count": 2,
   "id": "4f99ec7f",
   "metadata": {},
   "outputs": [],
   "source": [
    "import pandas as pd\n",
    "\n",
    "test_set = pd.read_csv('test.csv', encoding='latin-1')\n"
   ]
  },
  {
   "cell_type": "markdown",
   "id": "243d9845",
   "metadata": {},
   "source": [
    "# DATA PREPROCESSING FOR TEST DATA SET"
   ]
  },
  {
   "cell_type": "code",
   "execution_count": 3,
   "id": "da36a54b",
   "metadata": {},
   "outputs": [],
   "source": [
    "import preprocessor as p\n",
    "import re\n",
    "\n",
    "#set up punctuations we want to be replaced\n",
    "REPLACE_NO_SPACE = re.compile(\"(\\.)|(\\;)|(\\:)|(\\!)|(\\')|(\\?)|(\\,)|(\\\")|(\\|)|(\\()|(\\))|(\\[)|(\\])|(\\%)|(\\$)|(\\>)|(\\<)|(\\{)|(\\})\")\n",
    "REPLACE_WITH_SPACE = re.compile(\"(<br\\s/><br\\s/?)|(-)|(/)|(:).\")"
   ]
  },
  {
   "cell_type": "code",
   "execution_count": 4,
   "id": "965bcd73",
   "metadata": {},
   "outputs": [],
   "source": [
    "def preprocessing(a):\n",
    "    tmp = []\n",
    "    for line in a:\n",
    "        tmp1 = p.clean(line)\n",
    "        tmp1 = REPLACE_NO_SPACE.sub(\"\", tmp1.lower()) # convert all tweets to lower cases\n",
    "        tmp1 = REPLACE_WITH_SPACE.sub(\" \", tmp1)\n",
    "        tmp.append(tmp1)\n",
    "    return tmp"
   ]
  },
  {
   "cell_type": "code",
   "execution_count": 5,
   "id": "c55f9f5b",
   "metadata": {},
   "outputs": [
    {
     "data": {
      "text/plain": [
       "'import nltk\\nfrom nltk.corpus import stopwords\\nnltk.download(\\'stopwords\\')\\n\\ncustom_stopwords = [\\n    \"i\",\"im\",\"like\", \"feel\", \"feeling\", \"my\", \"the\", \"to\",\\n                     \"for\",\"know\",\"littl\",\"think\",\"time\",\"thing\",\"would\",\"go\",\\n                     \"realli\",\"feel\",\"am\",\"so\",\"get\", \"one\", \"to\", \"and\", \"at\", \"can\",\\n                     \"day\",\"way\", \"make\", \"me\", \"want\", \"could\" , \"would\", \"tri\", \"u\"                      \\n                     ]\\n\\n\\nall_stopwords=stopwords.words(\\'english\\') + custom_stopwords\\n\\nprint(all_stopwords)'"
      ]
     },
     "execution_count": 5,
     "metadata": {},
     "output_type": "execute_result"
    }
   ],
   "source": [
    "'''import nltk\n",
    "from nltk.corpus import stopwords\n",
    "nltk.download('stopwords')\n",
    "\n",
    "custom_stopwords = [\n",
    "    \"i\",\"im\",\"like\", \"feel\", \"feeling\", \"my\", \"the\", \"to\",\n",
    "                     \"for\",\"know\",\"littl\",\"think\",\"time\",\"thing\",\"would\",\"go\",\n",
    "                     \"realli\",\"feel\",\"am\",\"so\",\"get\", \"one\", \"to\", \"and\", \"at\", \"can\",\n",
    "                     \"day\",\"way\", \"make\", \"me\", \"want\", \"could\" , \"would\", \"tri\", \"u\"                      \n",
    "                     ]\n",
    "\n",
    "\n",
    "all_stopwords=stopwords.words('english') + custom_stopwords\n",
    "\n",
    "print(all_stopwords)'''\n"
   ]
  },
  {
   "cell_type": "code",
   "execution_count": 6,
   "id": "f99f028f",
   "metadata": {},
   "outputs": [
    {
     "data": {
      "text/plain": [
       "\"import re\\nimport preprocessor as p\\nfrom nltk.stem import PorterStemmer\\n\\n\\n#  function to clean text data\\ndef preprocessing(text):\\n    text = text.lower()  # Convert to lowercase\\n    text = re.sub(r'\\\\W', ' ', text)  # Remove all non-word characters\\n    text = re.sub(r'\\\\s+', ' ', text)  # Replace all runs of whitespaces with a single space\\n    # Optionally, remove stopwords and stem\\n    words = text.split()\\n    words = [word for word in words if word not in all_stopwords]\\n    stemmer = PorterStemmer()\\n    words = [stemmer.stem(word) for word in words]\\n    return ' '.join(words)\\n\""
      ]
     },
     "execution_count": 6,
     "metadata": {},
     "output_type": "execute_result"
    }
   ],
   "source": [
    "'''import re\n",
    "import preprocessor as p\n",
    "from nltk.stem import PorterStemmer\n",
    "\n",
    "\n",
    "#  function to clean text data\n",
    "def preprocessing(text):\n",
    "    text = text.lower()  # Convert to lowercase\n",
    "    text = re.sub(r'\\W', ' ', text)  # Remove all non-word characters\n",
    "    text = re.sub(r'\\s+', ' ', text)  # Replace all runs of whitespaces with a single space\n",
    "    # Optionally, remove stopwords and stem\n",
    "    words = text.split()\n",
    "    words = [word for word in words if word not in all_stopwords]\n",
    "    stemmer = PorterStemmer()\n",
    "    words = [stemmer.stem(word) for word in words]\n",
    "    return ' '.join(words)\n",
    "'''\n"
   ]
  },
  {
   "cell_type": "code",
   "execution_count": 7,
   "id": "1ee5bd29",
   "metadata": {},
   "outputs": [
    {
     "data": {
      "text/html": [
       "<div>\n",
       "<style scoped>\n",
       "    .dataframe tbody tr th:only-of-type {\n",
       "        vertical-align: middle;\n",
       "    }\n",
       "\n",
       "    .dataframe tbody tr th {\n",
       "        vertical-align: top;\n",
       "    }\n",
       "\n",
       "    .dataframe thead th {\n",
       "        text-align: right;\n",
       "    }\n",
       "</style>\n",
       "<table border=\"1\" class=\"dataframe\">\n",
       "  <thead>\n",
       "    <tr style=\"text-align: right;\">\n",
       "      <th></th>\n",
       "      <th>0</th>\n",
       "    </tr>\n",
       "  </thead>\n",
       "  <tbody>\n",
       "    <tr>\n",
       "      <th>0</th>\n",
       "      <td>i really dont wanna stay in my house tonight i...</td>\n",
       "    </tr>\n",
       "    <tr>\n",
       "      <th>1</th>\n",
       "      <td>im scared of snakes</td>\n",
       "    </tr>\n",
       "    <tr>\n",
       "      <th>2</th>\n",
       "      <td>i love you</td>\n",
       "    </tr>\n",
       "    <tr>\n",
       "      <th>3</th>\n",
       "      <td>dont ever do that again</td>\n",
       "    </tr>\n",
       "    <tr>\n",
       "      <th>4</th>\n",
       "      <td>the way to the temple is from that side</td>\n",
       "    </tr>\n",
       "  </tbody>\n",
       "</table>\n",
       "</div>"
      ],
      "text/plain": [
       "                                                   0\n",
       "0  i really dont wanna stay in my house tonight i...\n",
       "1                                im scared of snakes\n",
       "2                                         i love you\n",
       "3                            dont ever do that again\n",
       "4            the way to the temple is from that side"
      ]
     },
     "execution_count": 7,
     "metadata": {},
     "output_type": "execute_result"
    }
   ],
   "source": [
    "new_data = preprocessing(test_set[\"text\"])\n",
    "new_data = pd.DataFrame(new_data)\n",
    "\n",
    "new_data.head()"
   ]
  },
  {
   "cell_type": "code",
   "execution_count": 8,
   "id": "c2b9d3cd",
   "metadata": {},
   "outputs": [
    {
     "data": {
      "text/html": [
       "<div>\n",
       "<style scoped>\n",
       "    .dataframe tbody tr th:only-of-type {\n",
       "        vertical-align: middle;\n",
       "    }\n",
       "\n",
       "    .dataframe tbody tr th {\n",
       "        vertical-align: top;\n",
       "    }\n",
       "\n",
       "    .dataframe thead th {\n",
       "        text-align: right;\n",
       "    }\n",
       "</style>\n",
       "<table border=\"1\" class=\"dataframe\">\n",
       "  <thead>\n",
       "    <tr style=\"text-align: right;\">\n",
       "      <th></th>\n",
       "      <th>Unnamed: 0</th>\n",
       "      <th>text</th>\n",
       "      <th>label</th>\n",
       "      <th>preprocessing</th>\n",
       "    </tr>\n",
       "  </thead>\n",
       "  <tbody>\n",
       "    <tr>\n",
       "      <th>0</th>\n",
       "      <td>0</td>\n",
       "      <td>I really don't wanna stay in my house tonight....</td>\n",
       "      <td>0</td>\n",
       "      <td>i really dont wanna stay in my house tonight i...</td>\n",
       "    </tr>\n",
       "    <tr>\n",
       "      <th>1</th>\n",
       "      <td>1</td>\n",
       "      <td>I'm scared of snakes</td>\n",
       "      <td>1</td>\n",
       "      <td>im scared of snakes</td>\n",
       "    </tr>\n",
       "    <tr>\n",
       "      <th>2</th>\n",
       "      <td>2</td>\n",
       "      <td>I love you</td>\n",
       "      <td>1</td>\n",
       "      <td>i love you</td>\n",
       "    </tr>\n",
       "    <tr>\n",
       "      <th>3</th>\n",
       "      <td>3</td>\n",
       "      <td>Don't ever do that again</td>\n",
       "      <td>0</td>\n",
       "      <td>dont ever do that again</td>\n",
       "    </tr>\n",
       "    <tr>\n",
       "      <th>4</th>\n",
       "      <td>4</td>\n",
       "      <td>The way to the temple is from that side</td>\n",
       "      <td>1</td>\n",
       "      <td>the way to the temple is from that side</td>\n",
       "    </tr>\n",
       "    <tr>\n",
       "      <th>5</th>\n",
       "      <td>5</td>\n",
       "      <td>I'm so disappointed with the customer service ...</td>\n",
       "      <td>0</td>\n",
       "      <td>im so disappointed with the customer service i...</td>\n",
       "    </tr>\n",
       "    <tr>\n",
       "      <th>6</th>\n",
       "      <td>6</td>\n",
       "      <td>Just finished my workout, feeling energized</td>\n",
       "      <td>1</td>\n",
       "      <td>just finished my workout feeling energized</td>\n",
       "    </tr>\n",
       "    <tr>\n",
       "      <th>7</th>\n",
       "      <td>7</td>\n",
       "      <td>Having a lazy day, enjoying some Netflix</td>\n",
       "      <td>1</td>\n",
       "      <td>having a lazy day enjoying some netflix</td>\n",
       "    </tr>\n",
       "    <tr>\n",
       "      <th>8</th>\n",
       "      <td>8</td>\n",
       "      <td>i feel my life is totally in ecstatic chaos</td>\n",
       "      <td>1</td>\n",
       "      <td>i feel my life is totally in ecstatic chaos</td>\n",
       "    </tr>\n",
       "    <tr>\n",
       "      <th>9</th>\n",
       "      <td>9</td>\n",
       "      <td>i feel i am being neglectful to a lot of you b...</td>\n",
       "      <td>0</td>\n",
       "      <td>i feel i am being neglectful to a lot of you b...</td>\n",
       "    </tr>\n",
       "  </tbody>\n",
       "</table>\n",
       "</div>"
      ],
      "text/plain": [
       "   Unnamed: 0                                               text  label  \\\n",
       "0           0  I really don't wanna stay in my house tonight....      0   \n",
       "1           1                               I'm scared of snakes      1   \n",
       "2           2                                         I love you      1   \n",
       "3           3                           Don't ever do that again      0   \n",
       "4           4            The way to the temple is from that side      1   \n",
       "5           5  I'm so disappointed with the customer service ...      0   \n",
       "6           6        Just finished my workout, feeling energized      1   \n",
       "7           7           Having a lazy day, enjoying some Netflix      1   \n",
       "8           8        i feel my life is totally in ecstatic chaos      1   \n",
       "9           9  i feel i am being neglectful to a lot of you b...      0   \n",
       "\n",
       "                                       preprocessing  \n",
       "0  i really dont wanna stay in my house tonight i...  \n",
       "1                                im scared of snakes  \n",
       "2                                         i love you  \n",
       "3                            dont ever do that again  \n",
       "4            the way to the temple is from that side  \n",
       "5  im so disappointed with the customer service i...  \n",
       "6         just finished my workout feeling energized  \n",
       "7            having a lazy day enjoying some netflix  \n",
       "8        i feel my life is totally in ecstatic chaos  \n",
       "9  i feel i am being neglectful to a lot of you b...  "
      ]
     },
     "execution_count": 8,
     "metadata": {},
     "output_type": "execute_result"
    }
   ],
   "source": [
    "test_set[\"preprocessing\"] = new_data\n",
    "\n",
    "#compare normal and preprocessed data\n",
    "test_set.head(10)"
   ]
  },
  {
   "cell_type": "code",
   "execution_count": 9,
   "id": "15d2304c",
   "metadata": {},
   "outputs": [
    {
     "data": {
      "text/plain": [
       "array([0, 1, 1, 0, 1, 0, 1, 1, 1, 0, 0, 1, 1, 0, 1, 1, 2, 2, 0, 1, 1, 0,\n",
       "       2, 0, 1, 0, 0, 1, 2, 1, 0, 1, 1, 2, 0, 2, 2, 0, 0, 0, 0, 0, 1, 0,\n",
       "       0, 0, 1, 1, 2, 1, 0, 1, 2, 1, 0, 1, 0, 1, 2, 0, 1, 1, 1, 1, 1, 0,\n",
       "       0, 1, 1, 2, 1, 1, 0, 0, 0, 0, 0, 0, 2, 1, 1, 1, 0, 0, 1, 1, 1, 1,\n",
       "       1, 2, 2, 2, 2, 2, 2, 2, 2, 2, 2, 0, 0, 0, 0, 0, 0, 0, 0, 0, 0, 2,\n",
       "       2, 2, 2, 2, 2, 2, 2], dtype=int64)"
      ]
     },
     "execution_count": 9,
     "metadata": {},
     "output_type": "execute_result"
    }
   ],
   "source": [
    "example = test_set.preprocessing.values\n",
    "example\n",
    "ex_output = test_set.label.values\n",
    "ex_output"
   ]
  },
  {
   "cell_type": "code",
   "execution_count": 10,
   "id": "67664735",
   "metadata": {},
   "outputs": [],
   "source": [
    "example_vector = vectorizer.transform(example)\n"
   ]
  },
  {
   "cell_type": "code",
   "execution_count": 11,
   "id": "5e05f4ac",
   "metadata": {},
   "outputs": [],
   "source": [
    "output = svm_classifier.predict(example_vector)"
   ]
  },
  {
   "cell_type": "code",
   "execution_count": 12,
   "id": "6d6ebd83",
   "metadata": {
    "scrolled": true
   },
   "outputs": [
    {
     "name": "stdout",
     "output_type": "stream",
     "text": [
      "[0 1 1 0 1 0 1 1 1 0 0 1 1 0 1 1 2 2 0 1 1 0 2 0 1 0 0 1 2 1 0 1 1 2 0 2 2\n",
      " 0 0 0 0 0 1 0 0 0 1 1 2 1 0 1 2 1 0 1 0 1 2 0 1 1 1 1 1 0 0 1 1 2 1 1 0 0\n",
      " 0 0 0 0 2 1 1 1 0 0 1 1 1 1 1 2 2 2 2 2 2 2 2 2 2 0 0 0 0 0 0 0 0 0 0 2 2\n",
      " 2 2 2 2 2 2]\n",
      "[0 2 0 0 1 0 1 0 1 0 0 2 2 0 1 1 0 0 0 0 1 0 2 0 0 0 0 0 0 1 0 0 0 2 0 1 1\n",
      " 1 0 1 0 0 1 2 0 0 1 1 2 1 0 0 2 1 0 1 0 1 2 0 1 1 1 1 1 2 0 1 1 2 1 1 0 0\n",
      " 0 0 0 0 2 1 1 1 0 0 1 1 0 1 1 0 1 0 0 0 0 0 0 2 0 0 0 0 0 0 1 0 0 0 0 0 2\n",
      " 0 2 0 0 0 0]\n"
     ]
    }
   ],
   "source": [
    "print(ex_output)\n",
    "print(output)"
   ]
  },
  {
   "cell_type": "code",
   "execution_count": 13,
   "id": "d427dbc8",
   "metadata": {},
   "outputs": [
    {
     "name": "stdout",
     "output_type": "stream",
     "text": [
      "Accuracy: 0.6837606837606838\n"
     ]
    }
   ],
   "source": [
    "from sklearn.metrics import accuracy_score\n",
    "\n",
    "\n",
    "my_accuracy = accuracy_score(ex_output, output)\n",
    "print(f'Accuracy: {my_accuracy}')"
   ]
  },
  {
   "cell_type": "code",
   "execution_count": null,
   "id": "8d028818",
   "metadata": {},
   "outputs": [],
   "source": []
  }
 ],
 "metadata": {
  "kernelspec": {
   "display_name": "Python 3 (ipykernel)",
   "language": "python",
   "name": "python3"
  },
  "language_info": {
   "codemirror_mode": {
    "name": "ipython",
    "version": 3
   },
   "file_extension": ".py",
   "mimetype": "text/x-python",
   "name": "python",
   "nbconvert_exporter": "python",
   "pygments_lexer": "ipython3",
   "version": "3.11.5"
  }
 },
 "nbformat": 4,
 "nbformat_minor": 5
}
