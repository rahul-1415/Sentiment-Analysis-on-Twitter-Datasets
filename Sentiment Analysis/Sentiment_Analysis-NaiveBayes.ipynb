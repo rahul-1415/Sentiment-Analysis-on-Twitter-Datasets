{
 "cells": [
  {
   "cell_type": "code",
   "execution_count": 5,
   "metadata": {
    "colab": {
     "base_uri": "https://localhost:8080/"
    },
    "id": "-s29wBZrepUs",
    "outputId": "05cca753-3be6-4fd4-bc1e-2d36de9c9363"
   },
   "outputs": [
    {
     "name": "stderr",
     "output_type": "stream",
     "text": [
      "[nltk_data] Downloading package stopwords to /home/rbabu3/nltk_data...\n",
      "[nltk_data]   Package stopwords is already up-to-date!\n",
      "[nltk_data] Downloading package punkt to /home/rbabu3/nltk_data...\n",
      "[nltk_data]   Package punkt is already up-to-date!\n"
     ]
    },
    {
     "data": {
      "text/plain": [
       "True"
      ]
     },
     "execution_count": 5,
     "metadata": {},
     "output_type": "execute_result"
    }
   ],
   "source": [
    "import nltk\n",
    "nltk.download('stopwords')\n",
    "nltk.download('punkt')"
   ]
  },
  {
   "cell_type": "code",
   "execution_count": 6,
   "metadata": {
    "id": "U-xroDixf1ja"
   },
   "outputs": [],
   "source": [
    "import pandas as pd\n",
    "import numpy as np\n",
    "import matplotlib.pyplot as plt\n",
    "import seaborn as sns\n",
    "\n",
    "from sklearn.model_selection import train_test_split,GridSearchCV\n",
    "from wordcloud import WordCloud\n",
    "from nltk.tokenize import word_tokenize\n",
    "from nltk.corpus import stopwords\n",
    "from nltk.stem.porter import PorterStemmer\n",
    "import re #to remove the special characters in the text\n",
    "from sklearn.feature_extraction.text import CountVectorizer\n",
    "##importing models of the day\n",
    "from sklearn.naive_bayes import GaussianNB,MultinomialNB\n",
    "from sklearn.metrics import accuracy_score"
   ]
  },
  {
   "cell_type": "code",
   "execution_count": 11,
   "metadata": {
    "id": "kRYdnu7hgDOF"
   },
   "outputs": [],
   "source": [
    "data = pd.read_csv('text.csv')\n",
    "data.sample(4)\n",
    "data = data[0:416808]"
   ]
  },
  {
   "cell_type": "code",
   "execution_count": 12,
   "metadata": {
    "colab": {
     "base_uri": "https://localhost:8080/",
     "height": 374
    },
    "id": "F-cEGvPMYFih",
    "outputId": "1f84ca48-fb68-4384-d36b-5967c578d683"
   },
   "outputs": [
    {
     "name": "stdout",
     "output_type": "stream",
     "text": [
      "Number of rows in the DataFrame: 416808\n"
     ]
    },
    {
     "data": {
      "image/png": "[encoded data removed]",
      "text/plain": [
       "<Figure size 1400x400 with 1 Axes>"
      ]
     },
     "metadata": {},
     "output_type": "display_data"
    },
    {
     "name": "stdout",
     "output_type": "stream",
     "text": [
      "Accuracy: 0.9224586742160696\n"
     ]
    }
   ],
   "source": [
    "\n",
    "print(f'Number of rows in the DataFrame: {data.shape[0]}')\n",
    "data.isna().sum()\n",
    "\n",
    "# Rename and drop columns\n",
    "data.rename(columns={'text': 'Text', 'label': 'Label'}, inplace=True)\n",
    "data.drop(columns=['Unnamed: 0'], inplace=True)\n",
    "data.sample(4)\n",
    "\n",
    "# Visualize emotion distribution\n",
    "plt.figure(figsize=(14, 4))\n",
    "label_count = data['Label'].value_counts()\n",
    "plt.pie(label_count, labels=label_count.index, autopct='%1.1f%%')\n",
    "plt.title('Emotion Distribution')\n",
    "plt.axis('equal')\n",
    "plt.show()\n",
    "\n",
    "# Mapping emotion labels to sentiment labels\n",
    "emotion_to_sentiment = {\n",
    "    0: 0,  # sadness -> negative sentiment\n",
    "    1: 1,  # joy/love -> neutral sentiment\n",
    "    2: 1,\n",
    "    3: 0,  # anger -> negative sentiment\n",
    "    4: 2,  # fear/surprise -> positive sentiment\n",
    "    5: 2\n",
    "}\n",
    "data['Label'] = data['Label'].map(emotion_to_sentiment)\n",
    "\n",
    "# Preprocessing\n",
    "pattern = r'[^a-zA-Z0-9\\s]'\n",
    "stop_words = set(stopwords.words('english'))\n",
    "ps = PorterStemmer()\n",
    "def preprocess(text):\n",
    "    clean_text = re.sub(pattern, '', text)  # replace with empty string\n",
    "    tokens = word_tokenize(clean_text)  # tokenize the given clean text\n",
    "    filtered_token = [word for word in tokens if word.lower() not in stop_words]  # remove stop words\n",
    "    stemmed_token = [ps.stem(word) for word in filtered_token]  # apply porter stemmer\n",
    "    return ' '.join(stemmed_token)\n",
    "data['Text'] = data['Text'].apply(preprocess)\n",
    "\n",
    "# Vectorization\n",
    "cv = CountVectorizer(max_features=5000)\n",
    "cv.fit(data['Text'])\n",
    "trf = cv.transform(data['Text'])\n",
    "trf = trf.toarray()\n",
    "X = trf\n",
    "y = data['Label']\n",
    "\n",
    "# Train-test split\n",
    "X_train, X_test, y_train, y_test = train_test_split(X, y, test_size=0.2)\n",
    "\n",
    "# Model training and evaluation\n",
    "mnb = MultinomialNB()\n",
    "mnb.fit(X_train, y_train)\n",
    "y_preds = mnb.predict(X_test)\n",
    "print('Accuracy:', accuracy_score(y_test, y_preds))\n"
   ]
  },
  {
   "cell_type": "code",
   "execution_count": 13,
   "metadata": {
    "id": "n57m3SOXTchl"
   },
   "outputs": [],
   "source": [
    "# Sample Twitter texts\n",
    "sample_texts = [\"Wow!! This is unexpected\",\n",
    "            \"I really don't wanna stay in my house tonight. It's so creepy out there\",\n",
    "            \"But very unfortunately I am forced to take this decision due to my persisting tailbone injury which needs immediate attention. Will need all your support and good will to heal at the earliest, and come back to do more.\",\n",
    "              \"I love you\", \"I'm so happy\",\n",
    "                \"I'm so pissed right now\",\n",
    "                \"I'm scared of snakes\",\n",
    "                \"Don't over do that again\",\n",
    "                \"I'm just so grateful for everything right now.\", \"It's just frustrating when you're not being heard.\", \"I can't believe they would do something like this. I'm livid.\", 'Every moment with you is a treasure.', 'Wow, I did not see that coming at all!',\n",
    "                'The sun is shining, and so is my heart.', 'This is just unfair and it makes my blood boil.', 'Every moment with you is a treasure.', \"Love is in the air, and I'm here for it.\", \"I'm shocked, in a good way!\",\n",
    "                'The world feels a little dimmer today, missing you.', \"I can't shake this feeling of dread.\", \"There's something about this place that just feels off.\", \"I can't believe I'm going through this again. It's heartbreaking.\", 'Every time I think about it, I get angry all over again.',\n",
    "                \"I can't believe I'm going through this again. It's heartbreaking.\", 'Every time I think about it, my heart just sinks.', \"It's just frustrating when you're not being heard.\", 'Every time I think about it, my heart just sinks.', 'Every time I think about it, my heart just sinks.',\n",
    "                \"It's just one of those days where everything feels harder than it should.\", \"There's something about this place that just feels off.\", \"It's just frustrating when you're not being heard.\", \"It's just one of those days where everything feels harder than it should.\", 'Every shadow makes my heart race tonight.',\n",
    "                \"Your presence brings me such joy and peace, it's indescribable.\",\n",
    "    \"Every moment with you feels like a dream I never want to wake up from.\",\n",
    "    \"The way you look at me, with so much love and affection, melts my heart every time.\",\n",
    "    \"Holding your hand feels like finding a piece of the universe that was made just for me.\",\n",
    "    \"Your love is like a warm embrace on a cold winter's night, comforting and essential.\",\n",
    "     \"With you, every place feels like home and every moment is a treasure.\",\n",
    "    \"Your laughter is a melody that my heart wants to play on repeat.\",\n",
    "    \"Being loved by you is a blessing I thank the stars for every night.\",\n",
    "    \"Your eyes hold a universe I want to explore, filled with love and mysteries.\",\n",
    "    \"Love is what we've been through together, and every struggle made it stronger.\",\n",
    "     \"I never expected this turn of events, but I'm thrilled!\",\n",
    "    \"The surprise party you threw for me was beyond my wildest dreams!\",\n",
    "    \"Finding out the news left me in a state of shock and happiness.\",\n",
    "    \"I was taken aback by the unexpected gift; it was such a pleasant surprise.\",\n",
    "    \"The twist at the end of the story caught me completely off-guard.\",\n",
    "    \"Never in a million years did I see that coming!\",\n",
    "    \"The sudden revelation was a surprise that left me speechless.\",\n",
    "    \"Discovering the hidden message was like uncovering a treasure.\",\n",
    "    \"The moment you revealed the surprise, my heart skipped a beat.\",\n",
    "    \"It was a shock to see everyone there, waiting to surprise me!\",\n",
    "     \"The silence in the room felt heavier than usual, echoing my somber thoughts.\",\n",
    "    \"Losing you has left a void in my heart that nothing seems to fill.\",\n",
    "    \"Watching the sunset, I felt a loneliness that seemed to mirror my own.\",\n",
    "    \"The news hit me like a cold wave, leaving a chill of sadness.\",\n",
    "    \"It's hard to find the words to express the sorrow that's weighing on me.\",\n",
    "    \"The empty chair at the table served as a painful reminder of what was lost.\",\n",
    "    \"Tears were my silent response to a world that suddenly seemed too harsh.\",\n",
    "    \"I miss you more with each passing day, and the pain doesn't seem to fade.\",\n",
    "    \"The joy we once shared now feels like a distant memory, hard to grasp.\",\n",
    "    \"Saying goodbye was the hardest thing I've ever had to do.\",\n",
    "     \"The laughter that filled the room was contagious, bringing smiles to all.\",\n",
    "    \"Finding that one person who gets you is like discovering a hidden treasure.\",\n",
    "    \"The warmth of the sun on my face reminded me of the joy in simple things.\",\n",
    "    \"Receiving the news brought a surge of happiness I hadn't felt in a while.\",\n",
    "    \"The beauty of the world in bloom is enough to make anyone's heart lighter.\",\n",
    "    \"Joy comes in moments, often unexpected, but always welcome.\",\n",
    "    \"Seeing your smile is all it takes to make my day infinitely better.\",\n",
    "    \"The thrill of achievement is a high that nothing else can match.\",\n",
    "    \"Happiness is finding peace in the chaos, a quiet moment of contentment.\",\n",
    "    \"There's a unique joy in making someone else smile, a warmth that spreads.\",\n",
    "     \"Every shadow in the dark seemed to whisper my name, heightening my fear.\",\n",
    "    \"The thought of losing everything I hold dear terrifies me beyond words.\",\n",
    "    \"Hearing the howl of the wind, I felt as if danger was lurking around every corner.\",\n",
    "    \"The uncertainty of what lies ahead fills me with a deep, unsettling fear.\",\n",
    "    \"My heart races at the thought of facing my deepest fears alone.\",\n",
    "    \"There's something about the silence of the night that amplifies my fears.\",\n",
    "    \"The creaking of the floorboards in an empty house sends shivers down my spine.\",\n",
    "    \"I'm haunted by the fear that I may never find my way back to where I belong.\",\n",
    "    \"The fear of failure looms over me, a constant shadow that I can't seem to escape.\",\n",
    "    \"Being trapped in a place with no escape is the stuff of my nightmares.\",\n",
    "    \"The injustice of the situation filled me with an intense rage.\",\n",
    "    \"Every time I think about the betrayal, a fierce anger bubbles up inside me.\",\n",
    "    \"The frustration of being powerless in that moment turned into seething anger.\",\n",
    "    \"Feeling overlooked and undervalued ignited a spark of anger in me.\",\n",
    "    \"The blatant disrespect shown to me was enough to make my blood boil.\",\n",
    "    \"I clenched my fists in anger, struggling to calm the storm within.\",\n",
    "    \"The constant noise was driving me to the edge, my patience turning to anger.\",\n",
    "    \"Seeing the unfairness unfold before my eyes, my temper flared uncontrollably.\",\n",
    "    \"Their words were like fuel to the fire of my anger, making it burn brighter.\",\n",
    "    \"The more I tried to let it go, the stronger my anger grew, consuming my thoughts.\",\n",
    "    \"The eerie silence of the forest made every sound seem like a threat.\",\n",
    "    \"Lying awake at night, I imagined all sorts of horrors lurking in the dark.\",\n",
    "    \"The thought of being watched when I was alone sent a chill through me.\",\n",
    "    \"Hearing footsteps behind me in the empty street made my heart race with fear.\",\n",
    "    \"The fear of the unknown had always been a powerful, paralyzing force.\",\n",
    "    \"Seeing shadows move in the darkness filled me with an irrational fear.\",\n",
    "    \"The old, abandoned house seemed to hold secrets that were better left undiscovered.\"\n",
    "\n",
    "\n",
    "]\n",
    "\n",
    "# Preprocess the sample texts\n",
    "preprocessed_samples = [preprocess(text) for text in sample_texts]\n",
    "\n",
    "# Vectorize the preprocessed texts using the existing CountVectorizer cv\n",
    "sample_vectors = cv.transform(preprocessed_samples).toarray()\n",
    "\n",
    "# Predict sentiments for the sample texts using the trained model\n",
    "predicted_sentiments = mnb.predict(sample_vectors)\n",
    "\n",
    "# Map sentiment labels back to emotions\n",
    "sentiment_to_emotion = {\n",
    "    0: 'Negative',\n",
    "    1: 'Neutral',\n",
    "    2: 'Positive'\n",
    "}\n",
    "\n",
    "predicted_emotions = []\n",
    "# Print the predicted emotions for each sample text\n",
    "for text, sentiment in zip(sample_texts, predicted_sentiments):\n",
    "    predicted_emotion = sentiment_to_emotion[sentiment]\n",
    "    predicted_emotions.append(predicted_emotion)\n",
    "#    print(f'Text: {text}\\nPredicted Emotion: {predicted_emotion}\\n')"
   ]
  },
  {
   "cell_type": "code",
   "execution_count": 14,
   "metadata": {
    "colab": {
     "base_uri": "https://localhost:8080/"
    },
    "id": "RLVBFuprC318",
    "outputId": "023d8dce-6c3c-455c-ec24-0b0f5a4b508a"
   },
   "outputs": [
    {
     "name": "stdout",
     "output_type": "stream",
     "text": [
      "Accuracy: 44.00%\n"
     ]
    }
   ],
   "source": [
    "actual_emotions = [5,4,0, 2, 1, 3, 4, 3, 1, 3, 3, 2, 5, 1, 3, 2, 2, 5, 0, 4,\n",
    "                  4, 0, 3, 0, 0, 3, 0, 0, 0, 4, 3, 0, 4, 2, 2, 2, 2, 2, 2, 2, 2, 2, 2,\n",
    "                  5, 5, 5, 5, 5, 5, 5, 5, 5, 5, 0, 0, 0, 0, 0, 0, 0, 0, 0, 0,\n",
    "                  1, 1, 1, 1, 1, 1, 1, 1, 1, 1, 4, 4, 4, 4, 4, 4, 4, 4, 4, 4,\n",
    "                  3, 3, 3, 3, 3, 3, 3, 3, 3, 3,4, 4, 4, 4, 4, 4, 4]  # Replace with actual labels for new data\n",
    "# Predicted emotions (already calculated)\n",
    "for i in range(len(actual_emotions)):\n",
    "  if actual_emotions[i] == 0 or actual_emotions[i] == 3:\n",
    "    actual_emotions[i] = 'Negative'\n",
    "  if actual_emotions[i] == 1 or actual_emotions[i] == 2:\n",
    "    actual_emotions[i] = 'Neutral'\n",
    "  else :\n",
    "    actual_emotions[i]= 'Positive'\n",
    "accuracy = accuracy_score(actual_emotions, predicted_emotions)\n",
    "print(f'Accuracy: {accuracy * 100:.2f}%')"
   ]
  },
  {
   "cell_type": "code",
   "execution_count": null,
   "metadata": {},
   "outputs": [],
   "source": []
  }
 ],
 "metadata": {
  "colab": {
   "provenance": []
  },
  "kernelspec": {
   "display_name": "Python 3 (ipykernel)",
   "language": "python",
   "name": "python3"
  },
  "language_info": {
   "codemirror_mode": {
    "name": "ipython",
    "version": 3
   },
   "file_extension": ".py",
   "mimetype": "text/x-python",
   "name": "python",
   "nbconvert_exporter": "python",
   "pygments_lexer": "ipython3",
   "version": "3.11.6"
  }
 },
 "nbformat": 4,
 "nbformat_minor": 4
}
