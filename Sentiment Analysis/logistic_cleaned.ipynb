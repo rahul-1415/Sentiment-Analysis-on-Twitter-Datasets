{
 "cells": [
  {
   "cell_type": "code",
   "execution_count": 24,
   "metadata": {},
   "outputs": [
    {
     "name": "stderr",
     "output_type": "stream",
     "text": [
      "[nltk_data] Downloading package punkt to\n",
      "[nltk_data]     C:\\Users\\Admin\\AppData\\Roaming\\nltk_data...\n",
      "[nltk_data]   Package punkt is already up-to-date!\n"
     ]
    }
   ],
   "source": [
    "import pandas as pd\n",
    "from sklearn.model_selection import train_test_split\n",
    "from sklearn.model_selection import cross_validate\n",
    "from sklearn.feature_extraction.text import TfidfVectorizer\n",
    "from sklearn.linear_model import LogisticRegression\n",
    "from sklearn.metrics import accuracy_score,precision_score, recall_score, f1_score,confusion_matrix,make_scorer\n",
    "import seaborn as sns\n",
    "import numpy as np\n",
    "\n",
    "import nltk\n",
    "from nltk.tokenize import word_tokenize\n",
    "from nltk.probability import FreqDist\n",
    "\n",
    "nltk.download('punkt')\n",
    "\n",
    "from wordcloud import WordCloud\n",
    "import matplotlib.pyplot as plt\n",
    "\n",
    "\n"
   ]
  },
  {
   "cell_type": "code",
   "execution_count": 25,
   "metadata": {},
   "outputs": [],
   "source": [
    "# Load the dataset\n",
    "data = pd.read_csv('cleaned_data.csv')  # Update the path to your dataset file\n",
    "\n",
    "\n",
    "#data=data.sample(200000)\n",
    "\n",
    "# Check for NaN values and fill them with a placeholder string (e.g., \"missing\")\n",
    "data.fillna(\"missing\", inplace=True)\n",
    "\n"
   ]
  },
  {
   "cell_type": "code",
   "execution_count": 26,
   "metadata": {},
   "outputs": [
    {
     "name": "stderr",
     "output_type": "stream",
     "text": [
      "[nltk_data] Downloading package stopwords to\n",
      "[nltk_data]     C:\\Users\\Admin\\AppData\\Roaming\\nltk_data...\n",
      "[nltk_data]   Package stopwords is already up-to-date!\n"
     ]
    },
    {
     "data": {
      "text/plain": [
       "True"
      ]
     },
     "execution_count": 26,
     "metadata": {},
     "output_type": "execute_result"
    }
   ],
   "source": [
    "from sklearn.pipeline import Pipeline\n",
    "from sklearn.feature_extraction.text import TfidfVectorizer\n",
    "from sklearn.linear_model import LogisticRegression\n",
    "from sklearn.model_selection import train_test_split\n",
    "\n",
    "import pandas as pd\n",
    "import re\n",
    "from nltk.corpus import stopwords\n",
    "from nltk.stem import PorterStemmer\n",
    "from joblib import dump, load\n",
    "import nltk\n",
    "\n",
    "nltk.download('stopwords')\n",
    "\n"
   ]
  },
  {
   "cell_type": "code",
   "execution_count": 27,
   "metadata": {},
   "outputs": [
    {
     "name": "stdout",
     "output_type": "stream",
     "text": [
      "['i', 'me', 'my', 'myself', 'we', 'our', 'ours', 'ourselves', 'you', \"you're\", \"you've\", \"you'll\", \"you'd\", 'your', 'yours', 'yourself', 'yourselves', 'he', 'him', 'his', 'himself', 'she', \"she's\", 'her', 'hers', 'herself', 'it', \"it's\", 'its', 'itself', 'they', 'them', 'their', 'theirs', 'themselves', 'what', 'which', 'who', 'whom', 'this', 'that', \"that'll\", 'these', 'those', 'am', 'is', 'are', 'was', 'were', 'be', 'been', 'being', 'have', 'has', 'had', 'having', 'do', 'does', 'did', 'doing', 'a', 'an', 'the', 'and', 'but', 'if', 'or', 'because', 'as', 'until', 'while', 'of', 'at', 'by', 'for', 'with', 'about', 'against', 'between', 'into', 'through', 'during', 'before', 'after', 'above', 'below', 'to', 'from', 'up', 'down', 'in', 'out', 'on', 'off', 'over', 'under', 'again', 'further', 'then', 'once', 'here', 'there', 'when', 'where', 'why', 'how', 'all', 'any', 'both', 'each', 'few', 'more', 'most', 'other', 'some', 'such', 'no', 'nor', 'not', 'only', 'own', 'same', 'so', 'than', 'too', 'very', 's', 't', 'can', 'will', 'just', 'don', \"don't\", 'should', \"should've\", 'now', 'd', 'll', 'm', 'o', 're', 've', 'y', 'ain', 'aren', \"aren't\", 'couldn', \"couldn't\", 'didn', \"didn't\", 'doesn', \"doesn't\", 'hadn', \"hadn't\", 'hasn', \"hasn't\", 'haven', \"haven't\", 'isn', \"isn't\", 'ma', 'mightn', \"mightn't\", 'mustn', \"mustn't\", 'needn', \"needn't\", 'shan', \"shan't\", 'shouldn', \"shouldn't\", 'wasn', \"wasn't\", 'weren', \"weren't\", 'won', \"won't\", 'wouldn', \"wouldn't\", 'i', 'im', 'like', 'feel', 'feeling', 'my', 'the', 'to', 'for', 'know', 'littl', 'think', 'time', 'thing', 'would', 'go', 'realli', 'feel', 'am', 'so', 'get', 'one', 'to', 'and', 'at', 'can', 'day', 'way', 'make', 'me', 'want', 'could', 'would', 'tri', 'u']\n"
     ]
    }
   ],
   "source": [
    "custom_stopwords = [\n",
    "    \"i\",\"im\",\"like\", \"feel\", \"feeling\", \"my\", \"the\", \"to\",\n",
    "                     \"for\",\"know\",\"littl\",\"think\",\"time\",\"thing\",\"would\",\"go\",\n",
    "                     \"realli\",\"feel\",\"am\",\"so\",\"get\", \"one\", \"to\", \"and\", \"at\", \"can\",\n",
    "                     \"day\",\"way\", \"make\", \"me\", \"want\", \"could\" , \"would\", \"tri\", \"u\"                      \n",
    "                     ]\n",
    "\n",
    "\n",
    "all_stopwords=stopwords.words('english') + custom_stopwords\n",
    "\n",
    "print(all_stopwords)"
   ]
  },
  {
   "cell_type": "code",
   "execution_count": 28,
   "metadata": {},
   "outputs": [],
   "source": [
    "#  function to clean text data\n",
    "def clean_text(text):\n",
    "    text = text.lower()  # Convert to lowercase\n",
    "    text = re.sub(r'\\W', ' ', text)  # Remove all non-word characters\n",
    "    text = re.sub(r'\\s+', ' ', text)  # Replace all runs of whitespaces with a single space\n",
    "    # Optionally, remove stopwords and stem\n",
    "    words = text.split()\n",
    "    words = [word for word in words if word not in all_stopwords]\n",
    "    stemmer = PorterStemmer()\n",
    "    words = [stemmer.stem(word) for word in words]\n",
    "    return ' '.join(words)"
   ]
  },
  {
   "cell_type": "code",
   "execution_count": 29,
   "metadata": {},
   "outputs": [],
   "source": [
    "\n",
    "def reduceLabels(text):\n",
    "    # print(type(text))\n",
    "    if text==0 or text==3:\n",
    "        return 0\n",
    "    elif text==1 or text==2:\n",
    "        return 1\n",
    "    elif text==4 or text==5:\n",
    "        return 2\n",
    "    return 2\n",
    "\n"
   ]
  },
  {
   "cell_type": "code",
   "execution_count": 30,
   "metadata": {},
   "outputs": [],
   "source": [
    "# Define your label to emotion mapping\n",
    "# label_to_emotion = {0: 'Sad', 1: 'Joy', 2: 'Love', 3: 'Anger', 4: 'Fear', 5: 'Surprise'}\n",
    "\n",
    "label_to_emotion ={0:'Negative',1:'Positive',2:'Neutral'}\n",
    "\n",
    "# for label, emotion in label_to_emotion.items():\n",
    "#     # Filter texts by current label\n",
    "#     filtered_texts = data[data['label'] == label]['text'].str.cat(sep=' ')\n",
    "#     # Generate word cloud\n",
    "#     wordcloud = WordCloud(background_color='white', max_words=100).generate(filtered_texts)\n",
    "#     # Display the word cloud\n",
    "#     plt.figure(figsize=(5, 3))\n",
    "#     plt.imshow(wordcloud, interpolation='bilinear')\n",
    "#     plt.title(f'Word Cloud for {emotion}')\n",
    "#     plt.axis('off')\n",
    "#     plt.show()"
   ]
  },
  {
   "cell_type": "code",
   "execution_count": 31,
   "metadata": {},
   "outputs": [],
   "source": [
    "# for label, emotion in label_to_emotion.items():\n",
    "#     # Filter texts by current label\n",
    "#     filtered_texts = ' '.join(data[data['label'] == label]['text'].tolist())\n",
    "    \n",
    "#     # Tokenize and count words\n",
    "#     words = word_tokenize(filtered_texts)\n",
    "#     freq_dist = FreqDist(words)\n",
    "    \n",
    "#     # Get top 5 words and their frequencies\n",
    "#     top_15_words = freq_dist.most_common(15)\n",
    "#     words, frequencies = zip(*top_15_words)  # This separates the words and their frequencies\n",
    "    \n",
    "#     # Plotting\n",
    "#     plt.figure(figsize=(14, 2))\n",
    "#     plt.bar(words, frequencies, color='skyblue')\n",
    "#     plt.xlabel('Words')\n",
    "#     plt.ylabel('Frequency')\n",
    "#     plt.title(f'Top 15 Words for {emotion}')\n",
    "#     plt.show()"
   ]
  },
  {
   "cell_type": "code",
   "execution_count": 32,
   "metadata": {},
   "outputs": [],
   "source": [
    "# Creating a pipeline that includes TF-IDF vectorization and Logistic Regression\n",
    "pipeline = Pipeline([\n",
    "    ('tfidf', TfidfVectorizer(ngram_range=(1, 2))),\n",
    "    ('clf', LogisticRegression(max_iter=1000))\n",
    "])\n",
    "\n",
    "# Split your data\n",
    "X_train, X_test, y_train, y_test = train_test_split(data['text'], data['label'], test_size=0.2, random_state=42)\n",
    "\n",
    "\n"
   ]
  },
  {
   "cell_type": "code",
   "execution_count": 33,
   "metadata": {},
   "outputs": [],
   "source": [
    "# Train your model\n",
    "pipeline.fit(X_train, y_train)\n",
    "\n",
    "# Predict and evaluate\n",
    "predictions = pipeline.predict(X_test)\n",
    "\n"
   ]
  },
  {
   "cell_type": "code",
   "execution_count": 34,
   "metadata": {},
   "outputs": [
    {
     "name": "stdout",
     "output_type": "stream",
     "text": [
      "Accuracy: 0.9351623041673665\n",
      "Precision: 0.9350896852402578\n",
      "Recall: 0.9351623041673665\n",
      "F1 Score: 0.935117616753079\n",
      "\n"
     ]
    },
    {
     "data": {
      "image/png": "[encoded data removed]",
      "text/plain": [
       "<Figure size 500x400 with 1 Axes>"
      ]
     },
     "metadata": {},
     "output_type": "display_data"
    }
   ],
   "source": [
    "accuracy = accuracy_score(y_test, predictions)\n",
    "\n",
    "precision = precision_score(y_test, predictions, average='weighted')  # Use 'macro' or 'micro' based on your needs\n",
    "recall = recall_score(y_test, predictions, average='weighted')  # Use 'macro' or 'micro' based on your needs\n",
    "f1 = f1_score(y_test, predictions, average='weighted')  # Use 'macro' or 'micro' based on your needs\n",
    "cm = confusion_matrix(y_test, predictions)\n",
    "\n",
    "print(f'Accuracy: {accuracy}')\n",
    "print(f'Precision: {precision}')\n",
    "print(f'Recall: {recall}')\n",
    "print(f'F1 Score: {f1}')\n",
    "print()\n",
    "plt.figure(figsize=(5, 4))\n",
    "sns.heatmap(cm, annot=True, fmt='d', cmap='Blues', cbar=False)\n",
    "plt.xlabel('Predicted labels')\n",
    "plt.ylabel('True labels')\n",
    "plt.title('Confusion Matrix')\n",
    "plt.show()\n"
   ]
  },
  {
   "cell_type": "code",
   "execution_count": 35,
   "metadata": {},
   "outputs": [],
   "source": [
    "# Define scoring metrics\n",
    "scoring = {\n",
    "    'accuracy': make_scorer(accuracy_score),\n",
    "    'precision': make_scorer(precision_score, average='weighted'),\n",
    "    'recall': make_scorer(recall_score, average='weighted'),\n",
    "    'f1_score': make_scorer(f1_score, average='weighted')\n",
    "}\n",
    "\n",
    "# Perform 5-fold cross-validation\n",
    "# cv_results = cross_validate(pipeline, data['text'], data['label'], cv=5, scoring=scoring)\n",
    "\n"
   ]
  },
  {
   "cell_type": "code",
   "execution_count": 36,
   "metadata": {},
   "outputs": [],
   "source": [
    "# Display detailed results for each fold\n",
    "# for metric in scoring.keys():\n",
    "#     for fold_index, score in enumerate(cv_results[f'test_{metric}']):\n",
    "#         print(f\"{metric} fold {fold_index + 1}: {score}\")\n",
    "    \n",
    "#     # Display aggregated results (mean and standard deviation)\n",
    "#     print(f\"{metric} - Mean: {np.mean(cv_results[f'test_{metric}'])}, Std: {np.std(cv_results[f'test_{metric}'])}\\n\")"
   ]
  },
  {
   "cell_type": "code",
   "execution_count": 37,
   "metadata": {},
   "outputs": [
    {
     "name": "stdout",
     "output_type": "stream",
     "text": [
      "Sample Tweet: 100\n",
      "\n"
     ]
    }
   ],
   "source": [
    "from sklearn.metrics import accuracy_score\n",
    "\n",
    "# Assuming 'pipeline' is your trained model including the TF-IDF vectorizer and logistic regression\n",
    "\n",
    "# Example new data\n",
    "new_data = [\"Wow!! This is unexpected\",\n",
    "            \"I really don't wanna stay in my house tonight. It's so creepy out there\",\n",
    "            \"But very unfortunately I am forced to take this decision due to my persisting tailbone injury which needs immediate attention. Will need all your support and good will to heal at the earliest, and come back to do more.\",\n",
    "              \"I love you\", \"I'm so happy\",\n",
    "                \"I'm so pissed right now\", \n",
    "                \"I'm scared of snakes\", \n",
    "                \"Don't over do that again\",\n",
    "                \"I'm just so grateful for everything right now.\", \"It's just frustrating when you're not being heard.\", \"I can't believe they would do something like this. I'm livid.\", 'Every moment with you is a treasure.', 'Wow, I did not see that coming at all!',\n",
    "                'The sun is shining, and so is my heart.', 'This is just unfair and it makes my blood boil.', 'Every moment with you is a treasure.', \"Love is in the air, and I'm here for it.\", \"I'm shocked, in a good way!\",\n",
    "                'The world feels a little dimmer today, missing you.', \"I can't shake this feeling of dread.\", \"There's something about this place that just feels off.\", \"I can't believe I'm going through this again. It's heartbreaking.\", 'Every time I think about it, I get angry all over again.',\n",
    "                \"I can't believe I'm going through this again. It's heartbreaking.\", 'Every time I think about it, my heart just sinks.', \"It's just frustrating when you're not being heard.\", 'Every time I think about it, my heart just sinks.', 'Every time I think about it, my heart just sinks.',\n",
    "                \"It's just one of those days where everything feels harder than it should.\", \"There's something about this place that just feels off.\", \"It's just frustrating when you're not being heard.\", \"It's just one of those days where everything feels harder than it should.\", 'Every shadow makes my heart race tonight.',\n",
    "                \"Your presence brings me such joy and peace, it's indescribable.\",\n",
    "    \"Every moment with you feels like a dream I never want to wake up from.\",\n",
    "    \"The way you look at me, with so much love and affection, melts my heart every time.\",\n",
    "    \"Holding your hand feels like finding a piece of the universe that was made just for me.\",\n",
    "    \"Your love is like a warm embrace on a cold winter's night, comforting and essential.\",\n",
    "     \"With you, every place feels like home and every moment is a treasure.\",\n",
    "    \"Your laughter is a melody that my heart wants to play on repeat.\",\n",
    "    \"Being loved by you is a blessing I thank the stars for every night.\",\n",
    "    \"Your eyes hold a universe I want to explore, filled with love and mysteries.\",\n",
    "    \"Love is what we've been through together, and every struggle made it stronger.\",\n",
    "     \"I never expected this turn of events, but I'm thrilled!\",\n",
    "    \"The surprise party you threw for me was beyond my wildest dreams!\",\n",
    "    \"Finding out the news left me in a state of shock and happiness.\",\n",
    "    \"I was taken aback by the unexpected gift; it was such a pleasant surprise.\",\n",
    "    \"The twist at the end of the story caught me completely off-guard.\",\n",
    "    \"Never in a million years did I see that coming!\",\n",
    "    \"The sudden revelation was a surprise that left me speechless.\",\n",
    "    \"Discovering the hidden message was like uncovering a treasure.\",\n",
    "    \"The moment you revealed the surprise, my heart skipped a beat.\",\n",
    "    \"It was a shock to see everyone there, waiting to surprise me!\",\n",
    "     \"The silence in the room felt heavier than usual, echoing my somber thoughts.\",\n",
    "    \"Losing you has left a void in my heart that nothing seems to fill.\",\n",
    "    \"Watching the sunset, I felt a loneliness that seemed to mirror my own.\",\n",
    "    \"The news hit me like a cold wave, leaving a chill of sadness.\",\n",
    "    \"It's hard to find the words to express the sorrow that's weighing on me.\",\n",
    "    \"The empty chair at the table served as a painful reminder of what was lost.\",\n",
    "    \"Tears were my silent response to a world that suddenly seemed too harsh.\",\n",
    "    \"I miss you more with each passing day, and the pain doesn't seem to fade.\",\n",
    "    \"The joy we once shared now feels like a distant memory, hard to grasp.\",\n",
    "    \"Saying goodbye was the hardest thing I've ever had to do.\",\n",
    "     \"The laughter that filled the room was contagious, bringing smiles to all.\",\n",
    "    \"Finding that one person who gets you is like discovering a hidden treasure.\",\n",
    "    \"The warmth of the sun on my face reminded me of the joy in simple things.\",\n",
    "    \"Receiving the news brought a surge of happiness I hadn't felt in a while.\",\n",
    "    \"The beauty of the world in bloom is enough to make anyone's heart lighter.\",\n",
    "    \"Joy comes in moments, often unexpected, but always welcome.\",\n",
    "    \"Seeing your smile is all it takes to make my day infinitely better.\",\n",
    "    \"The thrill of achievement is a high that nothing else can match.\",\n",
    "    \"Happiness is finding peace in the chaos, a quiet moment of contentment.\",\n",
    "    \"There's a unique joy in making someone else smile, a warmth that spreads.\",\n",
    "     \"Every shadow in the dark seemed to whisper my name, heightening my fear.\",\n",
    "    \"The thought of losing everything I hold dear terrifies me beyond words.\",\n",
    "    \"Hearing the howl of the wind, I felt as if danger was lurking around every corner.\",\n",
    "    \"The uncertainty of what lies ahead fills me with a deep, unsettling fear.\",\n",
    "    \"My heart races at the thought of facing my deepest fears alone.\",\n",
    "    \"There's something about the silence of the night that amplifies my fears.\",\n",
    "    \"The creaking of the floorboards in an empty house sends shivers down my spine.\",\n",
    "    \"I'm haunted by the fear that I may never find my way back to where I belong.\",\n",
    "    \"The fear of failure looms over me, a constant shadow that I can't seem to escape.\",\n",
    "    \"Being trapped in a place with no escape is the stuff of my nightmares.\",\n",
    "    \"The injustice of the situation filled me with an intense rage.\",\n",
    "    \"Every time I think about the betrayal, a fierce anger bubbles up inside me.\",\n",
    "    \"The frustration of being powerless in that moment turned into seething anger.\",\n",
    "    \"Feeling overlooked and undervalued ignited a spark of anger in me.\",\n",
    "    \"The blatant disrespect shown to me was enough to make my blood boil.\",\n",
    "    \"I clenched my fists in anger, struggling to calm the storm within.\",\n",
    "    \"The constant noise was driving me to the edge, my patience turning to anger.\",\n",
    "    \"Seeing the unfairness unfold before my eyes, my temper flared uncontrollably.\",\n",
    "    \"Their words were like fuel to the fire of my anger, making it burn brighter.\",\n",
    "    \"The more I tried to let it go, the stronger my anger grew, consuming my thoughts.\",\n",
    "    \"The eerie silence of the forest made every sound seem like a threat.\",\n",
    "    \"Lying awake at night, I imagined all sorts of horrors lurking in the dark.\",\n",
    "    \"The thought of being watched when I was alone sent a chill through me.\",\n",
    "    \"Hearing footsteps behind me in the empty street made my heart race with fear.\",\n",
    "    \"The fear of the unknown had always been a powerful, paralyzing force.\",\n",
    "    \"Seeing shadows move in the darkness filled me with an irrational fear.\",\n",
    "    \"The old, abandoned house seemed to hold secrets that were better left undiscovered.\"\n",
    "                ]\n",
    "actual_labels = [5,4,0, 2, 1, 3, 4, 3, 1, 3, 3, 2, 5, 1, 3, 2, 2, 5, 0, 4,\n",
    "                  4, 0, 3, 0, 0, 3, 0, 0, 0, 4, 3, 0, 4, 2, 2, 2, 2, 2, 2, 2, 2, 2, 2,\n",
    "                  5, 5, 5, 5, 5, 5, 5, 5, 5, 5, 0, 0, 0, 0, 0, 0, 0, 0, 0, 0,\n",
    "                  1, 1, 1, 1, 1, 1, 1, 1, 1, 1, 4, 4, 4, 4, 4, 4, 4, 4, 4, 4,\n",
    "                  3, 3, 3, 3, 3, 3, 3, 3, 3, 3,4, 4, 4, 4, 4, 4, 4]  # Replace with actual labels for new data\n",
    "\n",
    "\n",
    "mapping={0:'Sad',1:'Joy',2:'Love',3:'Anger',4:'Fear',5:'Surprise'}\n",
    "print(\"Sample Tweet:\",len(actual_labels))\n",
    "print()\n",
    "\n",
    "new_mapping={0:'Negative',1:'Positive',2:'Neutral'}\n",
    "\n",
    "for i in range(len(actual_labels)):\n",
    "    actual_labels[i]=reduceLabels(actual_labels[i])\n",
    "\n"
   ]
  },
  {
   "cell_type": "code",
   "execution_count": 38,
   "metadata": {},
   "outputs": [
    {
     "name": "stdout",
     "output_type": "stream",
     "text": [
      "Accuracy: 0.71\n",
      "Precision: 0.7901086956521739\n",
      "F1 Score: 0.706027397260274\n",
      "\n"
     ]
    }
   ],
   "source": [
    "# Clean the new data using the same cleaning function used during training\n",
    "# If you applied text cleaning in the pipeline or before training, ensure to clean new_data similarly\n",
    "cleaned_new_data = [clean_text(text) for text in new_data]  # Use the same clean_text function defined earlier\n",
    "\n",
    "# Use the model to make predictions on the new, cleaned data\n",
    "predictions = pipeline.predict(cleaned_new_data)\n",
    "\n",
    "# Calculate and print the accuracy\n",
    "accuracy = accuracy_score(actual_labels, predictions)\n",
    "f1 = f1_score(actual_labels, predictions, average=\"weighted\")\n",
    "precision = precision_score(actual_labels, predictions, average=\"weighted\")\n",
    "print(f'Accuracy: {accuracy}')\n",
    "print(f'Precision: {precision}')\n",
    "print(f'F1 Score: {f1}')\n",
    "print()\n",
    "\n",
    "# To see the predictions alongside the actual labels\n",
    "# for pred, actual in zip(predictions, actual_labels):\n",
    "#     print(f'Predicted: {mapping[pred]}, Actual: {mapping[actual]}')"
   ]
  },
  {
   "cell_type": "code",
   "execution_count": 39,
   "metadata": {},
   "outputs": [
    {
     "data": {
      "image/png": "[encoded data removed]",
      "text/plain": [
       "<Figure size 500x400 with 2 Axes>"
      ]
     },
     "metadata": {},
     "output_type": "display_data"
    }
   ],
   "source": [
    "\n",
    "\n",
    "# Assuming 'predictions' and 'actual_labels' are your lists of predicted and actual labels\n",
    "cm = confusion_matrix(actual_labels, predictions)\n",
    "\n",
    "# Generate a mapping of emotions for the axis ticks\n",
    "emotion_labels = [new_mapping[label] for label in sorted(new_mapping)]\n",
    "emotion_ticks = np.arange(len(emotion_labels))\n",
    "\n",
    "# Plotting\n",
    "plt.figure(figsize=(5, 4))\n",
    "sns.heatmap(cm, annot=True, fmt=\"d\", cmap=\"Blues\", xticklabels=emotion_labels, yticklabels=emotion_labels)\n",
    "plt.title('Confusion Matrix')\n",
    "plt.xlabel('Predicted Labels')\n",
    "plt.ylabel('Actual Labels')\n",
    "plt.xticks(emotion_ticks + 0.5, emotion_labels)\n",
    "plt.yticks(emotion_ticks + 0.5, emotion_labels, rotation=0)\n",
    "plt.show()"
   ]
  }
 ],
 "metadata": {
  "kernelspec": {
   "display_name": "Python 3",
   "language": "python",
   "name": "python3"
  },
  "language_info": {
   "codemirror_mode": {
    "name": "ipython",
    "version": 3
   },
   "file_extension": ".py",
   "mimetype": "text/x-python",
   "name": "python",
   "nbconvert_exporter": "python",
   "pygments_lexer": "ipython3",
   "version": "3.11.5"
  }
 },
 "nbformat": 4,
 "nbformat_minor": 2
}
